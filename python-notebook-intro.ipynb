{
 "cells": [
  {
   "cell_type": "markdown",
   "metadata": {
    "slideshow": {
     "slide_type": "-"
    }
   },
   "source": [
    "# Python - Notebooks"
   ]
  },
  {
   "cell_type": "markdown",
   "metadata": {
    "slideshow": {
     "slide_type": "-"
    }
   },
   "source": [
    "## About Python\n",
    "\n",
    "* Python was started in the late 80's.\n",
    "* Intended to meet two requirements:\n",
    "  1. _Easy to teach_\n",
    "  2. _Industrial application_.\n",
    "* Open-source.\n",
    "* One of the most widely used languages (top 10)."
   ]
  },
  {
   "cell_type": "markdown",
   "metadata": {
    "slideshow": {
     "slide_type": "-"
    }
   },
   "source": [
    "## Jupyter Notebook\n",
    "\n",
    "The Jupyter Notebook is an open-source web application that allows you to create and share documents that contain live code, equations, visualizations and explanatory text. (This document is a Python Notebook)\n",
    "\n",
    "Characteristics\n",
    "* Support for multiple languages (40+)\n",
    "* Shareable\n",
    "* Interactive\n",
    "\n",
    "In a nutshell\n",
    "* Cells of code or text (can not mix them)\n",
    "* There is a single _context_ and it changes as you execute cells\n",
    "* Based on __execution order__, _not_ display order\n",
    "* By default, only last expression in the cell is displayed (can be changed)"
   ]
  },
  {
   "cell_type": "code",
   "execution_count": null,
   "metadata": {
    "slideshow": {
     "slide_type": "-"
    }
   },
   "outputs": [],
   "source": [
    "# Example, declare and manipulate a single variable\n",
    "a = 1"
   ]
  },
  {
   "cell_type": "code",
   "execution_count": null,
   "metadata": {
    "slideshow": {
     "slide_type": "-"
    }
   },
   "outputs": [],
   "source": [
    "print(a)"
   ]
  },
  {
   "cell_type": "code",
   "execution_count": null,
   "metadata": {},
   "outputs": [],
   "source": [
    "a"
   ]
  },
  {
   "cell_type": "code",
   "execution_count": null,
   "metadata": {
    "slideshow": {
     "slide_type": "-"
    }
   },
   "outputs": [],
   "source": [
    "a = 2"
   ]
  },
  {
   "cell_type": "markdown",
   "metadata": {},
   "source": [
    "Best advice: When things get confusing, __Restart Everything__"
   ]
  },
  {
   "cell_type": "markdown",
   "metadata": {},
   "source": [
    "## Magic commands\n",
    "\n",
    "You can start notebooks with different kernels (e.g., R, Julia) — not just Python.\n",
    "\n",
    "Jupyter kernels support varying magic commands that extend the core language with useful shortcuts.\n",
    "\n",
    "\n",
    "With \"_magics_\", it is possible to use different languages within a notebook.\n",
    "\n",
    "__Note:__ _Magics_ vary per notebook kernel.\n",
    "\n",
    "By running % lsmagic in a cell you get a list of all the available magics."
   ]
  },
  {
   "cell_type": "code",
   "execution_count": null,
   "metadata": {},
   "outputs": [],
   "source": [
    "% lsmagic"
   ]
  },
  {
   "cell_type": "markdown",
   "metadata": {},
   "source": [
    "You can use:\n",
    "\n",
    "* __%__ to start a single-line expression to run with the magics command\n",
    "* __%%__ to run a multi-line expression"
   ]
  },
  {
   "cell_type": "markdown",
   "metadata": {},
   "source": [
    "## Further information\n",
    "\n",
    "Jupyter/IPython Notebook Quick Start Guide<br>\n",
    "https://jupyter-notebook-beginner-guide.readthedocs.io/en/latest/#\n",
    "\n",
    "Notebook Basics<br>\n",
    "http://nbviewer.jupyter.org/github/jupyter/notebook/blob/master/docs/source/examples/Notebook/Notebook%20Basics.ipynb"
   ]
  },
  {
   "cell_type": "markdown",
   "metadata": {},
   "source": [
    "___"
   ]
  },
  {
   "cell_type": "code",
   "execution_count": null,
   "metadata": {},
   "outputs": [],
   "source": [
    "# Modify the css style\n",
    "# from IPython.core.display import HTML\n",
    "# def css_styling():\n",
    "#     styles = open(\"./style/custom.css\").read()\n",
    "#     return HTML(styles)\n",
    "# css_styling()"
   ]
  },
  {
   "cell_type": "code",
   "execution_count": null,
   "metadata": {},
   "outputs": [],
   "source": []
  }
 ],
 "metadata": {
  "kernelspec": {
   "display_name": "Python [default]",
   "language": "python",
   "name": "python3"
  },
  "language_info": {
   "codemirror_mode": {
    "name": "ipython",
    "version": 3
   },
   "file_extension": ".py",
   "mimetype": "text/x-python",
   "name": "python",
   "nbconvert_exporter": "python",
   "pygments_lexer": "ipython3",
   "version": "3.5.4"
  }
 },
 "nbformat": 4,
 "nbformat_minor": 2
}
